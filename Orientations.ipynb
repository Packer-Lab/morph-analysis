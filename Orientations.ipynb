{
 "cells": [
  {
   "cell_type": "code",
   "execution_count": 1,
   "metadata": {
    "pycharm": {
     "name": "#%%\n"
    }
   },
   "outputs": [
    {
     "data": {
      "text/plain": [
       "'HHHHHCHHHHCCCHHCHHHCCCCHHHHCCHHCCCCCCCCCCCCCCCCCCCCCCCCCCC'"
      ]
     },
     "execution_count": 1,
     "metadata": {},
     "output_type": "execute_result"
    }
   ],
   "source": [
    "#add slice orientations\n",
    "text_file=open('E:\\\\Jake\\\\orientations_backup.txt','r')\n",
    "output=open('E:\\\\Jake\\\\Orientations.txt','w')\n",
    "orientations=text_file.read().split('\\n')\n",
    "letters=''\n",
    "for i in orientations:\n",
    "    orientation=i.split(' ')\n",
    "    letters+=orientation[1]\n",
    "output.write(letters)\n",
    "text_file.close()\n",
    "output.close()\n",
    "letters\n"
   ]
  },
  {
   "cell_type": "code",
   "execution_count": 2,
   "metadata": {},
   "outputs": [
    {
     "name": "stdout",
     "output_type": "stream",
     "text": [
      "H count 20\n",
      "C count 38\n"
     ]
    }
   ],
   "source": [
    "h=0\n",
    "c=0\n",
    "\n",
    "for i in letters:\n",
    "    if i =='H':\n",
    "        h+=1\n",
    "    elif i=='C':\n",
    "        c+=1\n",
    "    else:\n",
    "        print('Error')\n",
    "print('H count '+ str(h) +'\\nC count '+str(c))              "
   ]
  },
  {
   "cell_type": "code",
   "execution_count": null,
   "metadata": {},
   "outputs": [],
   "source": []
  }
 ],
 "metadata": {
  "kernelspec": {
   "display_name": "Python 3",
   "language": "python",
   "name": "python3"
  },
  "language_info": {
   "codemirror_mode": {
    "name": "ipython",
    "version": 3
   },
   "file_extension": ".py",
   "mimetype": "text/x-python",
   "name": "python",
   "nbconvert_exporter": "python",
   "pygments_lexer": "ipython3",
   "version": "3.7.3"
  }
 },
 "nbformat": 4,
 "nbformat_minor": 2
}
